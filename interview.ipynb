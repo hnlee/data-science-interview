{
 "cells": [
  {
   "cell_type": "markdown",
   "id": "330fa112-d4fd-44b4-8988-d9167046d3e3",
   "metadata": {},
   "source": [
    "# Exercise\n",
    "\n",
    "Load `tb-burden-country.csv` into a `pandas` data frame and answer the following questions:\n",
    "\n",
    "1. Which African country has the highest prevalence of TB (as of the most recent data)? Lowest prevalence?\n",
    "2. What are the total number of deaths from TB per year in South Africa?\n",
    "3. For each year in the data set, which country has the highest incidence rate when restricted to countries with a method given for deriving incidence estimates?\n",
    "4. Using the data visualization library of your choice (e.g. `matplotlib`, `seaborn`, `altair`),  make a bar plot showing the incidence rate of TB cases that are HIV-positive over time in Kenya. Include error bars."
   ]
  },
  {
   "cell_type": "code",
   "execution_count": null,
   "id": "8869e51a-a922-4e6e-aca3-b781e270e7d0",
   "metadata": {},
   "outputs": [],
   "source": []
  }
 ],
 "metadata": {
  "kernelspec": {
   "display_name": "Python 3 (ipykernel)",
   "language": "python",
   "name": "python3"
  },
  "language_info": {
   "codemirror_mode": {
    "name": "ipython",
    "version": 3
   },
   "file_extension": ".py",
   "mimetype": "text/x-python",
   "name": "python",
   "nbconvert_exporter": "python",
   "pygments_lexer": "ipython3",
   "version": "3.11.8"
  }
 },
 "nbformat": 4,
 "nbformat_minor": 5
}
